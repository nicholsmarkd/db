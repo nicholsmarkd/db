{
 "cells": [
  {
   "cell_type": "code",
   "execution_count": 31,
   "id": "initial_id",
   "metadata": {
    "collapsed": true,
    "ExecuteTime": {
     "end_time": "2023-11-26T03:21:15.020756Z",
     "start_time": "2023-11-26T03:21:15.014238Z"
    }
   },
   "outputs": [],
   "source": [
    "import psycopg2"
   ]
  },
  {
   "cell_type": "code",
   "execution_count": 32,
   "outputs": [],
   "source": [
    "create_sql = '''\n",
    "drop table if exists test.service_windows;\n",
    "create table if not exists test.service_windows (\n",
    "    id int, branch_id int, location_id int,\n",
    "    service_window json\n",
    ");'''\n",
    "select_sql = '''\n",
    "select * from test.service_windows\n",
    "'''\n",
    "insert_sql = '''\n",
    "insert into test.service_windows (id, branch_id, location_id, service_window)\n",
    "values (1,1,1,\n",
    "'[\n",
    "{\"sd\": \"M\", \"sw\": [\"0600-1200\",\"1400-1500\"]},\n",
    "{\"sd\": \"T\", \"sw\": [\"0600-1200\",\"1400-1500\"]}\n",
    "]');\n",
    "insert into test.service_windows (id, branch_id, location_id, service_window)\n",
    "values (2,2,2,\n",
    "'[\n",
    "{\"sd\": \"W\", \"sw\": [\"0600-1200\",\"1400-1500\"]},\n",
    "{\"sd\": \"H\", \"sw\": [\"0600-1200\"]}\n",
    "]');\n",
    "'''"
   ],
   "metadata": {
    "collapsed": false,
    "ExecuteTime": {
     "end_time": "2023-11-26T03:21:15.021041Z",
     "start_time": "2023-11-26T03:21:15.018848Z"
    }
   },
   "id": "c2652e5d52f5ccc"
  },
  {
   "cell_type": "code",
   "execution_count": 33,
   "outputs": [
    {
     "name": "stdout",
     "output_type": "stream",
     "text": [
      "<class 'dict'>\n"
     ]
    },
    {
     "data": {
      "text/plain": "(1,\n 1,\n 1,\n [{'sd': 'M', 'sw': ['0600-1200', '1400-1500']},\n  {'sd': 'T', 'sw': ['0600-1200', '1400-1500']}])"
     },
     "execution_count": 33,
     "metadata": {},
     "output_type": "execute_result"
    }
   ],
   "source": [
    "with psycopg2.connect(\"dbname=brinks\") as conn:\n",
    "    with conn.cursor() as cur:\n",
    "        cur.execute(create_sql)\n",
    "        # conn.commit()\n",
    "        cur.execute(insert_sql)\n",
    "        cur.execute(select_sql)\n",
    "        rec = cur.fetchone()\n",
    "        print(type(rec[3][0]))\n",
    "rec\n"
   ],
   "metadata": {
    "collapsed": false,
    "ExecuteTime": {
     "end_time": "2023-11-26T03:21:15.044553Z",
     "start_time": "2023-11-26T03:21:15.022550Z"
    }
   },
   "id": "24a88972eb41ec49"
  },
  {
   "cell_type": "code",
   "execution_count": 33,
   "outputs": [],
   "source": [],
   "metadata": {
    "collapsed": false,
    "ExecuteTime": {
     "end_time": "2023-11-26T03:21:15.044785Z",
     "start_time": "2023-11-26T03:21:15.040911Z"
    }
   },
   "id": "b6e60f3062058feb"
  }
 ],
 "metadata": {
  "kernelspec": {
   "display_name": "Python 3",
   "language": "python",
   "name": "python3"
  },
  "language_info": {
   "codemirror_mode": {
    "name": "ipython",
    "version": 2
   },
   "file_extension": ".py",
   "mimetype": "text/x-python",
   "name": "python",
   "nbconvert_exporter": "python",
   "pygments_lexer": "ipython2",
   "version": "2.7.6"
  }
 },
 "nbformat": 4,
 "nbformat_minor": 5
}
