{
 "cells": [
  {
   "cell_type": "code",
   "execution_count": 36,
   "id": "initial_id",
   "metadata": {
    "collapsed": true,
    "ExecuteTime": {
     "end_time": "2023-11-26T03:36:12.463141Z",
     "start_time": "2023-11-26T03:36:12.458014Z"
    }
   },
   "outputs": [],
   "source": [
    "import psycopg2"
   ]
  },
  {
   "cell_type": "code",
   "execution_count": 37,
   "outputs": [],
   "source": [
    "create_sql = '''\n",
    "drop table if exists test.service_windows;\n",
    "create table if not exists test.service_windows (\n",
    "    id int, branch_id int, location_id int,\n",
    "    service_window json\n",
    ");'''\n",
    "select_sql = '''\n",
    "select * from test.service_windows\n",
    "'''\n",
    "insert_sql = '''\n",
    "insert into test.service_windows (id, branch_id, location_id, service_window)\n",
    "values (1,1,1,\n",
    "'[\n",
    "{\"sd\": \"M\", \"sw\": [\"0600-1200\",\"1400-1500\"]},\n",
    "{\"sd\": \"T\", \"sw\": [\"0600-1200\",\"1400-1500\"]}\n",
    "]');\n",
    "insert into test.service_windows (id, branch_id, location_id, service_window)\n",
    "values (2,2,2,\n",
    "'[\n",
    "{\"sd\": \"W\", \"sw\": [\"0600-1200\",\"1400-1500\"]},\n",
    "{\"sd\": \"H\", \"sw\": [\"0600-1200\"]}\n",
    "]');\n",
    "'''"
   ],
   "metadata": {
    "collapsed": false,
    "ExecuteTime": {
     "end_time": "2023-11-26T03:36:12.466390Z",
     "start_time": "2023-11-26T03:36:12.462006Z"
    }
   },
   "id": "c2652e5d52f5ccc"
  },
  {
   "cell_type": "code",
   "execution_count": 38,
   "outputs": [
    {
     "name": "stdout",
     "output_type": "stream",
     "text": [
      "(1, 1, 1, [{'sd': 'M', 'sw': ['0600-1200', '1400-1500']}, {'sd': 'T', 'sw': ['0600-1200', '1400-1500']}])\n",
      "(2, 2, 2, [{'sd': 'W', 'sw': ['0600-1200', '1400-1500']}, {'sd': 'H', 'sw': ['0600-1200']}])\n"
     ]
    }
   ],
   "source": [
    "with psycopg2.connect(\"dbname=brinks\") as conn:\n",
    "    with conn.cursor() as cur:\n",
    "        cur.execute(create_sql)\n",
    "        cur.execute(insert_sql)\n",
    "        cur.execute(select_sql)\n",
    "        for rec in cur:\n",
    "            print(rec)"
   ],
   "metadata": {
    "collapsed": false,
    "ExecuteTime": {
     "end_time": "2023-11-26T03:36:12.485915Z",
     "start_time": "2023-11-26T03:36:12.466237Z"
    }
   },
   "id": "24a88972eb41ec49"
  },
  {
   "cell_type": "code",
   "execution_count": 38,
   "outputs": [],
   "source": [],
   "metadata": {
    "collapsed": false,
    "ExecuteTime": {
     "end_time": "2023-11-26T03:36:12.486124Z",
     "start_time": "2023-11-26T03:36:12.482833Z"
    }
   },
   "id": "b6e60f3062058feb"
  },
  {
   "cell_type": "code",
   "execution_count": 38,
   "outputs": [],
   "source": [],
   "metadata": {
    "collapsed": false,
    "ExecuteTime": {
     "end_time": "2023-11-26T03:36:12.490971Z",
     "start_time": "2023-11-26T03:36:12.485551Z"
    }
   },
   "id": "6a158d20e964b267"
  }
 ],
 "metadata": {
  "kernelspec": {
   "display_name": "Python 3",
   "language": "python",
   "name": "python3"
  },
  "language_info": {
   "codemirror_mode": {
    "name": "ipython",
    "version": 2
   },
   "file_extension": ".py",
   "mimetype": "text/x-python",
   "name": "python",
   "nbconvert_exporter": "python",
   "pygments_lexer": "ipython2",
   "version": "2.7.6"
  }
 },
 "nbformat": 4,
 "nbformat_minor": 5
}
