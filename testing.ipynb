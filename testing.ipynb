{
 "cells": [
  {
   "cell_type": "code",
   "execution_count": 22,
   "id": "initial_id",
   "metadata": {
    "ExecuteTime": {
     "end_time": "2023-11-26T22:10:16.562770Z",
     "start_time": "2023-11-26T22:10:16.555413Z"
    }
   },
   "outputs": [],
   "source": [
    "import psycopg2"
   ]
  },
  {
   "cell_type": "code",
   "execution_count": 23,
   "id": "c2652e5d52f5ccc",
   "metadata": {
    "collapsed": false,
    "ExecuteTime": {
     "end_time": "2023-11-26T22:10:16.563092Z",
     "start_time": "2023-11-26T22:10:16.561278Z"
    }
   },
   "outputs": [],
   "source": [
    "create_sql = '''\n",
    "drop table if exists test.service_windows;\n",
    "create table if not exists test.service_windows (\n",
    "    id int, branch_id int, location_id int,\n",
    "    service_window json\n",
    ");'''\n",
    "select_sql = '''\n",
    "select * from test.service_windows\n",
    "'''\n",
    "insert_sql = '''\n",
    "insert into test.service_windows (id, branch_id, location_id, service_window)\n",
    "values (1,1,1,\n",
    "'[\n",
    "{\n",
    "\"sd\": \"M\", \n",
    "\"sw\": [\"0600-1200\",\"1400-1500\"]\n",
    "},\n",
    "{\n",
    "\"sd\": \"T\", \n",
    "\"sw\": [\"0600-1200\",\"1400-1500\"]}]');\n",
    "insert into test.service_windows (id, branch_id, location_id, service_window)\n",
    "values (2,2,2,\n",
    "'[\n",
    "{\"sd\": \"W\", \"sw\": [\"0600-1200\",\"1400-1500\"]},\n",
    "{\"sd\": \"H\", \"sw\": [\"0600-1200\"]}\n",
    "]');\n",
    "'''"
   ]
  },
  {
   "cell_type": "code",
   "execution_count": 73,
   "id": "24a88972eb41ec49",
   "metadata": {
    "collapsed": false,
    "ExecuteTime": {
     "end_time": "2023-11-26T23:04:56.671267Z",
     "start_time": "2023-11-26T23:04:56.654534Z"
    }
   },
   "outputs": [],
   "source": [
    "with psycopg2.connect(\"dbname=brinks\") as conn:\n",
    "    with conn.cursor() as cur:\n",
    "        cur.execute(create_sql)\n",
    "        cur.execute(insert_sql)\n",
    "        cur.execute(select_sql)\n",
    "        for rec in cur:\n",
    "            print(rec)"
   ]
  },
  {
   "cell_type": "code",
   "execution_count": 74,
   "id": "b6e60f3062058feb",
   "metadata": {
    "collapsed": false,
    "ExecuteTime": {
     "end_time": "2023-11-26T23:04:57.215391Z",
     "start_time": "2023-11-26T23:04:57.184844Z"
    }
   },
   "outputs": [
    {
     "name": "stdout",
     "output_type": "stream",
     "text": [
      "(1, 1, 1, 1, {'address': '111 Main'}, {'lat': 1.00001, 'long': 1.0}, 1, [{'sd': 'S', 'sw': ['00:01-23-59']}])\n",
      "(2, 1, 2, 1, {'address': '222 Main'}, {'lat': 1.00002, 'long': 1.0}, 2, [{'sd': 'S', 'sw': ['00:01-23-59']}, {'sd': 'U', 'sw': ['00:01-23-59']}])\n",
      "(3, 1, 3, 3, {'address': '333 Main'}, {'lat': 1.00003, 'long': 1.0}, 3, [{'sd': 'S', 'sw': ['00:01-23-59']}, {'sd': 'U', 'sw': ['00:01-23-59']}, {'sd': 'T', 'sw': ['00:09-10:00']}])\n"
     ]
    }
   ],
   "source": []
  },
  {
   "cell_type": "code",
   "execution_count": 6,
   "id": "6a158d20e964b267",
   "metadata": {
    "collapsed": false,
    "ExecuteTime": {
     "end_time": "2023-11-26T21:57:11.176840Z",
     "start_time": "2023-11-26T21:57:11.165268Z"
    }
   },
   "outputs": [],
   "source": []
  }
 ],
 "metadata": {
  "kernelspec": {
   "display_name": "Python 3 (ipykernel)",
   "language": "python",
   "name": "python3"
  },
  "language_info": {
   "codemirror_mode": {
    "name": "ipython",
    "version": 3
   },
   "file_extension": ".py",
   "mimetype": "text/x-python",
   "name": "python",
   "nbconvert_exporter": "python",
   "pygments_lexer": "ipython3",
   "version": "3.11.5"
  }
 },
 "nbformat": 4,
 "nbformat_minor": 5
}
