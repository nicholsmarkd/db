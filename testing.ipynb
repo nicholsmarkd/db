{
 "cells": [
  {
   "cell_type": "markdown",
   "source": [
    "## Connect using psycopg2\n",
    "----------------"
   ],
   "metadata": {
    "collapsed": false
   },
   "id": "be4c381e908acf33"
  },
  {
   "cell_type": "code",
   "execution_count": 22,
   "id": "initial_id",
   "metadata": {
    "ExecuteTime": {
     "end_time": "2023-11-26T22:10:16.562770Z",
     "start_time": "2023-11-26T22:10:16.555413Z"
    }
   },
   "outputs": [],
   "source": [
    "import psycopg2"
   ]
  },
  {
   "cell_type": "code",
   "execution_count": 23,
   "id": "c2652e5d52f5ccc",
   "metadata": {
    "collapsed": false,
    "ExecuteTime": {
     "end_time": "2023-11-26T22:10:16.563092Z",
     "start_time": "2023-11-26T22:10:16.561278Z"
    }
   },
   "outputs": [],
   "source": [
    "create_sql = '''\n",
    "drop table if exists test.service_windows;\n",
    "create table if not exists test.service_windows (\n",
    "    id int, branch_id int, location_id int,\n",
    "    service_window json\n",
    ");'''\n",
    "select_sql = '''\n",
    "select * from test.service_windows\n",
    "'''\n",
    "insert_sql = '''\n",
    "insert into test.service_windows (id, branch_id, location_id, service_window)\n",
    "values (1,1,1,\n",
    "'[\n",
    "{\n",
    "\"sd\": \"M\", \n",
    "\"sw\": [\"0600-1200\",\"1400-1500\"]\n",
    "},\n",
    "{\n",
    "\"sd\": \"T\", \n",
    "\"sw\": [\"0600-1200\",\"1400-1500\"]}]');\n",
    "insert into test.service_windows (id, branch_id, location_id, service_window)\n",
    "values (2,2,2,\n",
    "'[\n",
    "{\"sd\": \"W\", \"sw\": [\"0600-1200\",\"1400-1500\"]},\n",
    "{\"sd\": \"H\", \"sw\": [\"0600-1200\"]}\n",
    "]');\n",
    "'''"
   ]
  },
  {
   "cell_type": "code",
   "execution_count": 73,
   "id": "24a88972eb41ec49",
   "metadata": {
    "collapsed": false,
    "ExecuteTime": {
     "end_time": "2023-11-26T23:04:56.671267Z",
     "start_time": "2023-11-26T23:04:56.654534Z"
    }
   },
   "outputs": [],
   "source": [
    "with psycopg2.connect(\"dbname=brinks\") as conn:\n",
    "    with conn.cursor() as cur:\n",
    "        cur.execute(create_sql)\n",
    "        cur.execute(insert_sql)\n",
    "        cur.execute(select_sql)\n",
    "        for rec in cur:\n",
    "            print(rec)"
   ]
  },
  {
   "cell_type": "code",
   "execution_count": 74,
   "id": "b6e60f3062058feb",
   "metadata": {
    "collapsed": false,
    "ExecuteTime": {
     "end_time": "2023-11-26T23:04:57.215391Z",
     "start_time": "2023-11-26T23:04:57.184844Z"
    }
   },
   "outputs": [
    {
     "name": "stdout",
     "output_type": "stream",
     "text": [
      "(1, 1, 1, 1, {'address': '111 Main'}, {'lat': 1.00001, 'long': 1.0}, 1, [{'sd': 'S', 'sw': ['00:01-23-59']}])\n",
      "(2, 1, 2, 1, {'address': '222 Main'}, {'lat': 1.00002, 'long': 1.0}, 2, [{'sd': 'S', 'sw': ['00:01-23-59']}, {'sd': 'U', 'sw': ['00:01-23-59']}])\n",
      "(3, 1, 3, 3, {'address': '333 Main'}, {'lat': 1.00003, 'long': 1.0}, 3, [{'sd': 'S', 'sw': ['00:01-23-59']}, {'sd': 'U', 'sw': ['00:01-23-59']}, {'sd': 'T', 'sw': ['00:09-10:00']}])\n"
     ]
    }
   ],
   "source": []
  },
  {
   "cell_type": "code",
   "execution_count": 6,
   "id": "6a158d20e964b267",
   "metadata": {
    "collapsed": false,
    "ExecuteTime": {
     "end_time": "2023-11-26T21:57:11.176840Z",
     "start_time": "2023-11-26T21:57:11.165268Z"
    }
   },
   "outputs": [],
   "source": []
  },
  {
   "cell_type": "markdown",
   "source": [
    "## Connect using SQLAlchemy\n",
    "----------------------"
   ],
   "metadata": {
    "collapsed": false
   },
   "id": "85c2d5f8acc185a0"
  },
  {
   "cell_type": "code",
   "execution_count": 13,
   "outputs": [],
   "source": [
    "\n",
    "from sqlalchemy import Table, Column, Integer, String, MetaData\n",
    "from sqlalchemy import create_engine\n",
    "from sqlalchemy.sql import text\n",
    "\n",
    "db = create_engine(\"postgresql://localhost:5432/brinks\")\n",
    "conn = db.connect()"
   ],
   "metadata": {
    "collapsed": false,
    "ExecuteTime": {
     "end_time": "2023-11-27T02:59:32.989692Z",
     "start_time": "2023-11-27T02:59:32.977494Z"
    }
   },
   "id": "930cc80c20ceb078"
  },
  {
   "cell_type": "code",
   "execution_count": 14,
   "outputs": [],
   "source": [
    "sql = text(\"select * from test.service_windows\")\n",
    "results = conn.execute(sql)"
   ],
   "metadata": {
    "collapsed": false,
    "ExecuteTime": {
     "end_time": "2023-11-27T02:59:34.270512Z",
     "start_time": "2023-11-27T02:59:34.262812Z"
    }
   },
   "id": "15e0995b4e317398"
  },
  {
   "cell_type": "code",
   "execution_count": 15,
   "outputs": [
    {
     "name": "stdout",
     "output_type": "stream",
     "text": [
      "(1, 1, 1, 1, {'address': '111 Main'}, {'lat': 1.00001, 'long': 1.0}, 1, [{'sd': 'S', 'sw': ['00:01-23-59']}])\n",
      "(2, 1, 2, 1, {'address': '222 Main'}, {'lat': 1.00002, 'long': 1.0}, 2, [{'sd': 'S', 'sw': ['00:01-23-59']}, {'sd': 'U', 'sw': ['00:01-23-59']}])\n",
      "(3, 1, 3, 3, {'address': '333 Main'}, {'lat': 1.00003, 'long': 1.0}, 3, [{'sd': 'S', 'sw': ['00:01-23-59']}, {'sd': 'U', 'sw': ['00:01-23-59']}, {'sd': 'T', 'sw': ['00:09-10:00']}])\n"
     ]
    }
   ],
   "source": [
    "for row in results:\n",
    "    print(row)"
   ],
   "metadata": {
    "collapsed": false,
    "ExecuteTime": {
     "end_time": "2023-11-27T02:59:35.224806Z",
     "start_time": "2023-11-27T02:59:35.219649Z"
    }
   },
   "id": "1750931211c00383"
  },
  {
   "cell_type": "code",
   "execution_count": 30,
   "outputs": [],
   "source": [
    "# test for creating table with sqlalchemy\n",
    "metadata = MetaData()\n",
    "books = Table(\n",
    "    'book', metadata,\n",
    "    Column('id', Integer, primary_key=True),\n",
    "    Column('title', String),\n",
    "    Column('primary_author', String),\n",
    "    schema='test',\n",
    "    autoload_replace=True,\n",
    ")\n",
    "metadata.create_all(db)"
   ],
   "metadata": {
    "collapsed": false,
    "ExecuteTime": {
     "end_time": "2023-11-27T03:10:45.183618Z",
     "start_time": "2023-11-27T03:10:45.172679Z"
    }
   },
   "id": "cc957e0127253101"
  },
  {
   "cell_type": "code",
   "execution_count": 29,
   "outputs": [],
   "source": [
    "metadata.drop_all(db)\n",
    "conn.close()"
   ],
   "metadata": {
    "collapsed": false,
    "ExecuteTime": {
     "end_time": "2023-11-27T03:08:35.965898Z",
     "start_time": "2023-11-27T03:08:35.961863Z"
    }
   },
   "id": "76b5c9dc31e34ba3"
  }
 ],
 "metadata": {
  "kernelspec": {
   "display_name": "Python 3 (ipykernel)",
   "language": "python",
   "name": "python3"
  },
  "language_info": {
   "codemirror_mode": {
    "name": "ipython",
    "version": 3
   },
   "file_extension": ".py",
   "mimetype": "text/x-python",
   "name": "python",
   "nbconvert_exporter": "python",
   "pygments_lexer": "ipython3",
   "version": "3.11.5"
  }
 },
 "nbformat": 4,
 "nbformat_minor": 5
}
